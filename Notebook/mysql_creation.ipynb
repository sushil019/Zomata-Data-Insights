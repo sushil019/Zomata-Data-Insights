{
 "cells": [
  {
   "cell_type": "code",
   "execution_count": 17,
   "metadata": {},
   "outputs": [
    {
     "name": "stdout",
     "output_type": "stream",
     "text": [
      "Requirement already satisfied: mysql-connector-python in /Users/sushilkumar/Desktop/Guvi Mini project/.venv/lib/python3.13/site-packages (9.1.0)\n",
      "Note: you may need to restart the kernel to use updated packages.\n"
     ]
    }
   ],
   "source": [
    "pip install mysql-connector-python"
   ]
  },
  {
   "cell_type": "markdown",
   "metadata": {},
   "source": [
    "## connection creation"
   ]
  },
  {
   "cell_type": "code",
   "execution_count": 18,
   "metadata": {},
   "outputs": [],
   "source": [
    "import mysql.connector\n",
    "\n",
    "# Establish a connection to the MySQL database\n",
    "connection = mysql.connector.connect(\n",
    "    user='root',\n",
    "    password='Sushil46',\n",
    "    host='localhost',\n",
    "    database='zomato'\n",
    ")\n",
    "\n",
    "cursor = connection.cursor()\n",
    "cursor.execute(\"CREATE DATABASE IF NOT EXISTS zomato\")\n",
    "connection.close()\n",
    "\n"
   ]
  },
  {
   "cell_type": "markdown",
   "metadata": {},
   "source": [
    "## customer table creation"
   ]
  },
  {
   "cell_type": "code",
   "execution_count": 19,
   "metadata": {},
   "outputs": [],
   "source": [
    "query = '''CREATE TABLE IF NOT EXISTS zomato.customers (\n",
    "    customer_id VARCHAR(255) PRIMARY KEY, \n",
    "    name VARCHAR(255),\n",
    "    email VARCHAR(255),\n",
    "    phone VARCHAR(255),\n",
    "    location VARCHAR(255),\n",
    "    signup_date DATETIME,\n",
    "    is_premium BOOLEAN,\n",
    "    preferred_cuisine VARCHAR(255),\n",
    "    total_orders INT,\n",
    "    average_rating FLOAT\n",
    ");'''\n",
    "\n",
    "connection = mysql.connector.connect(\n",
    "    user='root',\n",
    "    password='Sushil46',\n",
    "    host='localhost',\n",
    "    database='zomato'\n",
    ")\n",
    "cursor = connection.cursor()\n",
    "cursor.execute(query)\n",
    "connection.close()\n"
   ]
  },
  {
   "cell_type": "markdown",
   "metadata": {},
   "source": [
    "## Inserting values to the customer table from CSV"
   ]
  },
  {
   "cell_type": "code",
   "execution_count": 20,
   "metadata": {},
   "outputs": [],
   "source": [
    "connection = mysql.connector.connect(\n",
    "    user='root',\n",
    "    password='Sushil46',\n",
    "    host='localhost',\n",
    "    database='zomato'\n",
    ")\n",
    "cursor = connection.cursor()\n",
    "\n",
    "import pandas as pd\n",
    "customers = pd.read_csv('updated_customers.csv')\n",
    "# SQL query to insert data\n",
    "insert_query = '''\n",
    "INSERT IGNORE INTO zomato.customers \n",
    "(customer_id, name, email, phone, location, signup_date, is_premium, preferred_cuisine, total_orders, average_rating)\n",
    "VALUES (%s, %s, %s, %s, %s, %s, %s, %s, %s, %s)\n",
    "'''\n",
    "\n",
    "# Iterate through the rows of the DataFrame and insert into the database\n",
    "for index, row in customers.iterrows():\n",
    "    cursor.execute(insert_query, (\n",
    "        row['customer_id'], row['name'], row['email'], row['phone'],\n",
    "        row['location'], row['signup_date'], row['is_premium'], \n",
    "        row['preferred_cuisine'], row['total_orders'], row['average_rating']\n",
    "    ))\n",
    "\n",
    "connection.commit()\n",
    "connection.close()\n"
   ]
  },
  {
   "cell_type": "markdown",
   "metadata": {},
   "source": [
    "## restaurants table creation"
   ]
  },
  {
   "cell_type": "code",
   "execution_count": 21,
   "metadata": {},
   "outputs": [],
   "source": [
    "query = '''CREATE TABLE IF NOT EXISTS zomato.restaurants (\n",
    "    restaurant_id VARCHAR(255) PRIMARY KEY,\n",
    "    name VARCHAR(255),\n",
    "    cuisine_type VARCHAR(255),\n",
    "    location VARCHAR(255),\n",
    "    owner_name VARCHAR(255),\n",
    "    `average_delivery_time(min)` INT,\n",
    "    contact_number VARCHAR(255),\n",
    "    rating FLOAT,\n",
    "    total_orders INT,\n",
    "    is_active VARCHAR(255)\n",
    ");'''\n",
    "\n",
    "connection = mysql.connector.connect(\n",
    "    user='root',\n",
    "    password='Sushil46',\n",
    "    host='localhost',\n",
    "    database='zomato'\n",
    ")\n",
    "cursor = connection.cursor()\n",
    "cursor.execute(query)\n",
    "connection.close()"
   ]
  },
  {
   "cell_type": "markdown",
   "metadata": {},
   "source": [
    "## Inserting values to the restaurants table from CSV"
   ]
  },
  {
   "cell_type": "code",
   "execution_count": 22,
   "metadata": {},
   "outputs": [],
   "source": [
    "# Read data from the CSV file\n",
    "restaurants = pd.read_csv('updated_restaurants.csv')\n",
    "# Rename column in DataFrame to match the database column name\n",
    "if 'average_delivery_time(min)' in restaurants.columns:\n",
    "    restaurants.rename(columns={'average_delivery_time(min)': 'average_delivery_time(min)'}, inplace=True)\n",
    "\n",
    "# Establish SQL connection again for data insertion\n",
    "connection = mysql.connector.connect(\n",
    "    user='root',\n",
    "    password='Sushil46',\n",
    "    host='localhost',\n",
    "    database='zomato'\n",
    ")\n",
    "cursor = connection.cursor()\n",
    "\n",
    "# SQL query for inserting data\n",
    "insert_query = '''\n",
    "INSERT IGNORE INTO zomato.restaurants \n",
    "(restaurant_id, name, cuisine_type, location, owner_name, `average_delivery_time(min)`, contact_number, rating, total_orders, is_active)\n",
    "VALUES (%s, %s, %s, %s, %s, %s, %s, %s, %s, %s)\n",
    "'''\n",
    "\n",
    "# Iterate through the rows of the DataFrame and insert into the database\n",
    "for index, row in restaurants.iterrows():\n",
    "    cursor.execute(insert_query, (\n",
    "        row['restaurant_id'], row['name'], row['cuisine_type'], row['location'], row['owner_name'], \n",
    "        row['average_delivery_time(min)'], row['contact_number'], row['rating'],\n",
    "        row['total_orders'], row['is_active']\n",
    "    ))\n",
    "\n",
    "# Commit and close the connection\n",
    "connection.commit()\n",
    "connection.close()"
   ]
  },
  {
   "cell_type": "markdown",
   "metadata": {},
   "source": [
    "## order table creation"
   ]
  },
  {
   "cell_type": "code",
   "execution_count": 23,
   "metadata": {},
   "outputs": [],
   "source": [
    "query = '''CREATE TABLE IF NOT EXISTS zomato.orders (\n",
    "    order_id VARCHAR(255) PRIMARY KEY,\n",
    "    customer_id VARCHAR(255),\n",
    "    restaurant_id VARCHAR(255),\n",
    "    order_date DATETIME,\n",
    "    delivery_time TIME,\n",
    "    status VARCHAR(255),\n",
    "    total_amount FLOAT,\n",
    "    payment_mode VARCHAR(255),\n",
    "    discount_applied INT,\n",
    "    feedback_rating INT,\n",
    "    FOREIGN KEY (customer_id) REFERENCES zomato.customers(customer_id),\n",
    "    FOREIGN KEY (restaurant_id) REFERENCES zomato.restaurants(restaurant_id)\n",
    ");'''\n",
    "\n",
    "# Connect to the database and create the table\n",
    "connection = mysql.connector.connect(\n",
    "    user='root',\n",
    "    password='Sushil46',\n",
    "    host='localhost',\n",
    "    database='zomato'\n",
    ")\n",
    "cursor = connection.cursor()\n",
    "cursor.execute(query)\n",
    "connection.close()"
   ]
  },
  {
   "cell_type": "markdown",
   "metadata": {},
   "source": [
    "## Inserting values to the order table from CSV"
   ]
  },
  {
   "cell_type": "code",
   "execution_count": 24,
   "metadata": {},
   "outputs": [],
   "source": [
    "connection = mysql.connector.connect(\n",
    "    user='root',\n",
    "    password='Sushil46',\n",
    "    host='localhost',\n",
    "    database='zomato'\n",
    ")\n",
    "cursor = connection.cursor()\n",
    "\n",
    "orders = pd.read_csv('updated_orders.csv')\n",
    "# SQL query for inserting data\n",
    "insert_query = '''\n",
    "INSERT IGNORE INTO zomato.orders \n",
    "(order_id, customer_id, restaurant_id, order_date, delivery_time, status, total_amount, payment_mode, discount_applied, feedback_rating)\n",
    "VALUES (%s, %s, %s, %s, %s, %s, %s, %s, %s, %s)\n",
    "'''\n",
    "\n",
    "# Iterate through the rows of the DataFrame and insert into the database\n",
    "for index, row in orders.iterrows():\n",
    "    cursor.execute(insert_query, (\n",
    "        row['order_id'], row['customer_id'], row['restaurant_id'], row['order_date'],\n",
    "        row['delivery_time'], row['status'], row['total_amount'],\n",
    "        row['payment_mode'], row['discount_applied'], row['feedback_rating']\n",
    "    ))\n",
    "\n",
    "connection.commit()\n",
    "connection.close()"
   ]
  },
  {
   "cell_type": "markdown",
   "metadata": {},
   "source": [
    "## delivery person  table creation"
   ]
  },
  {
   "cell_type": "code",
   "execution_count": 25,
   "metadata": {},
   "outputs": [],
   "source": [
    "query = '''CREATE TABLE IF NOT EXISTS zomato.delivery_persons (\n",
    "    delivery_person_id VARCHAR(255) PRIMARY KEY,\n",
    "    name VARCHAR(255),\n",
    "    contact_number VARCHAR(255),\n",
    "    vehicle_type VARCHAR(255),\n",
    "    total_deliveries INT,\n",
    "    average_rating FLOAT,\n",
    "    location VARCHAR(255)\n",
    ");'''\n",
    "\n",
    "# Connect to the database and create the table\n",
    "connection = mysql.connector.connect(\n",
    "    user='root',\n",
    "    password='Sushil46',\n",
    "    host='localhost',\n",
    "    database='zomato'\n",
    ")\n",
    "cursor = connection.cursor()\n",
    "cursor.execute(query)\n",
    "connection.close()"
   ]
  },
  {
   "cell_type": "markdown",
   "metadata": {},
   "source": [
    "## Inserting values to the delivery person table from CSV"
   ]
  },
  {
   "cell_type": "code",
   "execution_count": 26,
   "metadata": {},
   "outputs": [],
   "source": [
    "connection = mysql.connector.connect(\n",
    "    user='root',\n",
    "    password='Sushil46',\n",
    "    host='localhost',\n",
    "    database='zomato'\n",
    ")\n",
    "cursor = connection.cursor()\n",
    "\n",
    "# Load delivery persons data from a CSV file\n",
    "delivery_persons = pd.read_csv('updated_delivery_persons.csv')\n",
    "\n",
    "# SQL query for inserting data\n",
    "insert_query = '''\n",
    "INSERT IGNORE INTO zomato.delivery_persons \n",
    "(delivery_person_id, name, contact_number, vehicle_type, total_deliveries, average_rating, location)\n",
    "VALUES (%s, %s, %s, %s, %s, %s, %s)\n",
    "'''\n",
    "\n",
    "# Iterate through the rows of the DataFrame and insert into the database\n",
    "for index, row in delivery_persons.iterrows():\n",
    "    cursor.execute(insert_query, (\n",
    "        row['delivery_person_id'], row['name'], row['contact_number'], row['vehicle_type'],\n",
    "        row['total_deliveries'], row['average_rating'], row['location']\n",
    "    ))\n",
    "\n",
    "connection.commit()\n",
    "connection.close()"
   ]
  },
  {
   "cell_type": "markdown",
   "metadata": {},
   "source": [
    "## deliveries table creation"
   ]
  },
  {
   "cell_type": "code",
   "execution_count": 27,
   "metadata": {},
   "outputs": [],
   "source": [
    "query = '''CREATE TABLE IF NOT EXISTS zomato.deliveries (\n",
    "    delivery_id VARCHAR(255) PRIMARY KEY,\n",
    "    order_id VARCHAR(255),\n",
    "    delivery_person_id VARCHAR(255),\n",
    "    delivery_status VARCHAR(255),\n",
    "    `distance(km)` INT,\n",
    "    `delivery_time(min)` INT,\n",
    "    `estimated_time(min)` INT,\n",
    "    delivery_fee INT,\n",
    "    vehicle_type VARCHAR(255),\n",
    "    FOREIGN KEY (order_id) REFERENCES zomato.orders(order_id),\n",
    "    FOREIGN KEY (delivery_person_id) REFERENCES zomato.delivery_persons(delivery_person_id)\n",
    ");'''\n",
    "\n",
    "# Connect to the database and create the table\n",
    "connection = mysql.connector.connect(\n",
    "    user='root',\n",
    "    password='Sushil46',\n",
    "    host='localhost',\n",
    "    database='zomato'\n",
    ")\n",
    "cursor = connection.cursor()\n",
    "cursor.execute(query)\n",
    "connection.close()\n"
   ]
  },
  {
   "cell_type": "markdown",
   "metadata": {},
   "source": [
    "## Inserting values to the deliveries table from CSV"
   ]
  },
  {
   "cell_type": "code",
   "execution_count": 28,
   "metadata": {},
   "outputs": [],
   "source": [
    "deliveries = pd.read_csv('updated_deliveries.csv')\n",
    "if 'distance(km)' in deliveries.columns:\n",
    "    deliveries.rename(columns={'distance(km)': 'distance_km'}, inplace=True)\n",
    "if 'delivery_time(min)' in deliveries.columns:\n",
    "    deliveries.rename(columns={'delivery_time(min)': 'delivery_time'}, inplace=True)\n",
    "if 'estimated_time(min)' in deliveries.columns:\n",
    "    deliveries.rename(columns={'estimated_time(min)': 'estimated_time'}, inplace=True)\n",
    "\n",
    "connection = mysql.connector.connect(\n",
    "    user='root',\n",
    "    password='Sushil46',\n",
    "    host='localhost',\n",
    "    database='zomato'\n",
    ")\n",
    "cursor = connection.cursor()\n",
    "\n",
    "# SQL query for inserting data\n",
    "insert_query = '''\n",
    "INSERT IGNORE INTO zomato.deliveries \n",
    "(delivery_id, order_id, delivery_person_id, delivery_status, `distance(km)`, `delivery_time(min)`, `estimated_time(min)`, delivery_fee, vehicle_type)\n",
    "VALUES (%s, %s, %s, %s, %s, %s, %s, %s, %s)\n",
    "'''\n",
    "\n",
    "# Iterate through the rows of the DataFrame and insert into the database\n",
    "for index, row in deliveries.iterrows():\n",
    "    cursor.execute(insert_query, (\n",
    "        row['delivery_id'], row['order_id'], row['delivery_person_id'], row['delivery_status'],\n",
    "        row['distance_km'], row['delivery_time'], row['estimated_time'], row['delivery_fee'],\n",
    "        row['vehicle_type']\n",
    "    ))\n",
    "\n",
    "# Commit and close the connection\n",
    "connection.commit()\n",
    "connection.close()"
   ]
  }
 ],
 "metadata": {
  "kernelspec": {
   "display_name": ".venv",
   "language": "python",
   "name": "python3"
  },
  "language_info": {
   "codemirror_mode": {
    "name": "ipython",
    "version": 3
   },
   "file_extension": ".py",
   "mimetype": "text/x-python",
   "name": "python",
   "nbconvert_exporter": "python",
   "pygments_lexer": "ipython3",
   "version": "3.13.0"
  }
 },
 "nbformat": 4,
 "nbformat_minor": 2
}
